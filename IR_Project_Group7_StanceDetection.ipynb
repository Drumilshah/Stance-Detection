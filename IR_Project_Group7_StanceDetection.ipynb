{
  "nbformat": 4,
  "nbformat_minor": 0,
  "metadata": {
    "colab": {
      "name": "IR_Project_Group7_StanceDetection.ipynb",
      "provenance": [],
      "collapsed_sections": [],
      "toc_visible": true
    },
    "kernelspec": {
      "name": "python3",
      "display_name": "Python 3"
    }
  },
  "cells": [
    {
      "cell_type": "markdown",
      "metadata": {
        "id": "pDcsZd_lN9Yp"
      },
      "source": [
        "# **Stance detection on COVID-19 vaccination tweets**"
      ]
    },
    {
      "cell_type": "code",
      "metadata": {
        "id": "FfmAYTifc0F2"
      },
      "source": [
        "import pandas as pd\n",
        "import re\n",
        "import pandas as pd\n",
        "import numpy as np\n",
        "import nltk\n",
        "from nltk.corpus import stopwords\n",
        "from nltk.stem import WordNetLemmatizer"
      ],
      "execution_count": null,
      "outputs": []
    },
    {
      "cell_type": "markdown",
      "metadata": {
        "id": "Y3jhI6q2OcC3"
      },
      "source": [
        "## **Data Preprocessing**"
      ]
    },
    {
      "cell_type": "code",
      "metadata": {
        "colab": {
          "base_uri": "https://localhost:8080/"
        },
        "id": "gEnM8rH7gwkM",
        "outputId": "fde7abdf-93ad-43ea-a317-1cff76fce67f"
      },
      "source": [
        "read_csv_path = '/content/final.csv'\n",
        "write_csv_path = '/content/final_cleaned.csv'\n",
        "\n",
        "# read training dataset csv file\n",
        "df=pd.read_csv(read_csv_path,encoding='utf-8',header=0)\n",
        "print(df.head(10))\n",
        "print(df.shape,df.columns)\n",
        "\n",
        "nltk.download('stopwords')\n",
        "nltk.download('wordnet')\n",
        "wordnet_lemmatizer = WordNetLemmatizer()\n",
        "\n",
        "# remove hashtags, numbers, urls etc.\n",
        "def cleanText(text):\n",
        "    text = re.sub(r'@[A-Za-z0-9]+', '', text)\n",
        "    text = re.sub(r'#', '', text)\n",
        "    text = re.sub(r'[^a-zA-Z]', ' ', text)\n",
        "    text = re.sub(r'RT[\\s]+', '', text)\n",
        "    text = re.sub(r'https?:\\/\\/\\S+', '', text)\n",
        "    return text\n",
        "\n",
        "def splitTweet(text):\n",
        "    return text.split()\n",
        "\n",
        "STOPWORDS = set(stopwords.words('english'))\n",
        "def remove_stopwords(l):\n",
        "    return [word for word in l if len(word) > 2 and word not in STOPWORDS]\n",
        "\n",
        "def lemmatization(l):\n",
        "    temp = []\n",
        "    for i in l:\n",
        "        temp.append((wordnet_lemmatizer.lemmatize(i)).lower())\n",
        "    return \" \".join(temp)\n",
        "\n",
        "# clean the tweet\n",
        "df['Tweet'] = df['text'].apply(cleanText)\n",
        "\n",
        "# split each tweet by space and make list\n",
        "df['Split_tweet'] = df['Tweet'].apply(splitTweet)\n",
        "\n",
        "# remove stopwords\n",
        "df['Clean_tweet'] = df['Split_tweet'].apply(remove_stopwords)\n",
        "\n",
        "# lemmatize tweet\n",
        "df['Lemmatized_tweet'] = df['Clean_tweet'].apply(lemmatization)\n",
        "\n",
        "# remove empty tweets row\n",
        "df = df[df['Lemmatized_tweet'] != '']\n",
        "\n",
        "# remove empty tweets\n",
        "df = df.dropna()\n",
        "\n",
        "# write clean text into another csv\n",
        "df_new = pd.DataFrame({ 'Clean_text': df['Lemmatized_tweet'],'label':df['category']})\n",
        "df_new.to_csv(write_csv_path, index=False)"
      ],
      "execution_count": null,
      "outputs": [
        {
          "output_type": "stream",
          "text": [
            "   Unnamed: 0  ...  category\n",
            "0           0  ...       2.0\n",
            "1           1  ...       0.0\n",
            "2           2  ...       0.0\n",
            "3           3  ...       0.0\n",
            "4           4  ...       2.0\n",
            "5           5  ...       2.0\n",
            "6           6  ...       2.0\n",
            "7           7  ...       2.0\n",
            "8           8  ...       0.0\n",
            "9           9  ...       2.0\n",
            "\n",
            "[10 rows x 4 columns]\n",
            "(2770, 4) Index(['Unnamed: 0', 'id', 'text', 'category'], dtype='object')\n",
            "[nltk_data] Downloading package stopwords to /root/nltk_data...\n",
            "[nltk_data]   Package stopwords is already up-to-date!\n",
            "[nltk_data] Downloading package wordnet to /root/nltk_data...\n",
            "[nltk_data]   Package wordnet is already up-to-date!\n"
          ],
          "name": "stdout"
        }
      ]
    },
    {
      "cell_type": "code",
      "metadata": {
        "colab": {
          "base_uri": "https://localhost:8080/",
          "height": 202
        },
        "id": "hHg_0fhShyY-",
        "outputId": "ff80cef6-8859-493b-f67e-cffe746320a5"
      },
      "source": [
        "df_new.head()"
      ],
      "execution_count": null,
      "outputs": [
        {
          "output_type": "execute_result",
          "data": {
            "text/html": [
              "<div>\n",
              "<style scoped>\n",
              "    .dataframe tbody tr th:only-of-type {\n",
              "        vertical-align: middle;\n",
              "    }\n",
              "\n",
              "    .dataframe tbody tr th {\n",
              "        vertical-align: top;\n",
              "    }\n",
              "\n",
              "    .dataframe thead th {\n",
              "        text-align: right;\n",
              "    }\n",
              "</style>\n",
              "<table border=\"1\" class=\"dataframe\">\n",
              "  <thead>\n",
              "    <tr style=\"text-align: right;\">\n",
              "      <th></th>\n",
              "      <th>Clean_text</th>\n",
              "      <th>label</th>\n",
              "    </tr>\n",
              "  </thead>\n",
              "  <tbody>\n",
              "    <tr>\n",
              "      <th>0</th>\n",
              "      <td>great job pfizer vaccine scientist look come v...</td>\n",
              "      <td>2.0</td>\n",
              "    </tr>\n",
              "    <tr>\n",
              "      <th>1</th>\n",
              "      <td>the coronavirus effective clue long term effec...</td>\n",
              "      <td>0.0</td>\n",
              "    </tr>\n",
              "    <tr>\n",
              "      <th>2</th>\n",
              "      <td>bother profs different section tell public sta...</td>\n",
              "      <td>0.0</td>\n",
              "    </tr>\n",
              "    <tr>\n",
              "      <th>3</th>\n",
              "      <td>they say vaccine tested animal take never leav...</td>\n",
              "      <td>0.0</td>\n",
              "    </tr>\n",
              "    <tr>\n",
              "      <th>4</th>\n",
              "      <td>care voted go proper scientific medical proced...</td>\n",
              "      <td>2.0</td>\n",
              "    </tr>\n",
              "  </tbody>\n",
              "</table>\n",
              "</div>"
            ],
            "text/plain": [
              "                                          Clean_text  label\n",
              "0  great job pfizer vaccine scientist look come v...    2.0\n",
              "1  the coronavirus effective clue long term effec...    0.0\n",
              "2  bother profs different section tell public sta...    0.0\n",
              "3  they say vaccine tested animal take never leav...    0.0\n",
              "4  care voted go proper scientific medical proced...    2.0"
            ]
          },
          "metadata": {
            "tags": []
          },
          "execution_count": 2
        }
      ]
    },
    {
      "cell_type": "code",
      "metadata": {
        "colab": {
          "base_uri": "https://localhost:8080/",
          "height": 301
        },
        "id": "DQH5HPBcI8mT",
        "outputId": "28f00218-a02f-483a-a866-2f09c4b799cd"
      },
      "source": [
        "# Class distribution in training dataset\n",
        "\n",
        "import matplotlib.pyplot as plt\n",
        "df_new['label'].value_counts().sort_index().plot.bar()\n",
        "plt.xlabel(\"Stance\")\n",
        "plt.ylabel(\"Count\")\n",
        "plt.title(\"Class Distribution\")\n",
        "plt.legend([\"0 : Against\\n1 : Neutral\\n2 : In Favor\"])\n",
        "plt.show()"
      ],
      "execution_count": null,
      "outputs": [
        {
          "output_type": "display_data",
          "data": {
            "image/png": "[encoded data removed]",
            "text/plain": [
              "<Figure size 432x288 with 1 Axes>"
            ]
          },
          "metadata": {
            "tags": [],
            "needs_background": "light"
          }
        }
      ]
    },
    {
      "cell_type": "markdown",
      "metadata": {
        "id": "JbAHi0OEPnPQ"
      },
      "source": [
        "## **Feature Extraction**"
      ]
    },
    {
      "cell_type": "code",
      "metadata": {
        "id": "-5sB5gRyLydU"
      },
      "source": [
        "from sklearn.feature_extraction.text import CountVectorizer\n",
        "from sklearn.model_selection import train_test_split"
      ],
      "execution_count": null,
      "outputs": []
    },
    {
      "cell_type": "code",
      "metadata": {
        "id": "0rrQUgAjNir5"
      },
      "source": [
        "# create n-gram vector object \n",
        "vectorizer = CountVectorizer(ngram_range=(1, 2),max_features=1000)"
      ],
      "execution_count": null,
      "outputs": []
    },
    {
      "cell_type": "code",
      "metadata": {
        "id": "9rg-MdkhNrw_"
      },
      "source": [
        "# apply n-gram vector object on clean tweets\n",
        "\n",
        "X = vectorizer.fit_transform(df_new['Clean_text'])\n",
        "feature_names = vectorizer.get_feature_names()\n",
        "\n",
        "df_ngram = pd.DataFrame(data=X.toarray(),columns=feature_names)\n",
        "y_train = df_new['label']"
      ],
      "execution_count": null,
      "outputs": []
    },
    {
      "cell_type": "code",
      "metadata": {
        "colab": {
          "base_uri": "https://localhost:8080/",
          "height": 269
        },
        "id": "LjMFTHnFO1Xs",
        "outputId": "65f5bc53-6585-46da-8b1a-0e201741a374"
      },
      "source": [
        "df_ngram.head()"
      ],
      "execution_count": null,
      "outputs": [
        {
          "output_type": "execute_result",
          "data": {
            "text/html": [
              "<div>\n",
              "<style scoped>\n",
              "    .dataframe tbody tr th:only-of-type {\n",
              "        vertical-align: middle;\n",
              "    }\n",
              "\n",
              "    .dataframe tbody tr th {\n",
              "        vertical-align: top;\n",
              "    }\n",
              "\n",
              "    .dataframe thead th {\n",
              "        text-align: right;\n",
              "    }\n",
              "</style>\n",
              "<table border=\"1\" class=\"dataframe\">\n",
              "  <thead>\n",
              "    <tr style=\"text-align: right;\">\n",
              "      <th></th>\n",
              "      <th>able</th>\n",
              "      <th>absolutely</th>\n",
              "      <th>access</th>\n",
              "      <th>access covid</th>\n",
              "      <th>according</th>\n",
              "      <th>across</th>\n",
              "      <th>actually</th>\n",
              "      <th>administration</th>\n",
              "      <th>adult</th>\n",
              "      <th>adverse</th>\n",
              "      <th>after</th>\n",
              "      <th>age</th>\n",
              "      <th>ago</th>\n",
              "      <th>agree</th>\n",
              "      <th>ahead</th>\n",
              "      <th>all</th>\n",
              "      <th>almost</th>\n",
              "      <th>alone</th>\n",
              "      <th>already</th>\n",
              "      <th>also</th>\n",
              "      <th>alter</th>\n",
              "      <th>alter dna</th>\n",
              "      <th>always</th>\n",
              "      <th>amazing</th>\n",
              "      <th>amazing news</th>\n",
              "      <th>america</th>\n",
              "      <th>american</th>\n",
              "      <th>americans</th>\n",
              "      <th>among</th>\n",
              "      <th>amp</th>\n",
              "      <th>analysis</th>\n",
              "      <th>analysis show</th>\n",
              "      <th>and</th>\n",
              "      <th>animal</th>\n",
              "      <th>announce</th>\n",
              "      <th>announced</th>\n",
              "      <th>announcement</th>\n",
              "      <th>another</th>\n",
              "      <th>answer</th>\n",
              "      <th>anti</th>\n",
              "      <th>...</th>\n",
              "      <th>what</th>\n",
              "      <th>when</th>\n",
              "      <th>where</th>\n",
              "      <th>whether</th>\n",
              "      <th>which</th>\n",
              "      <th>while</th>\n",
              "      <th>who</th>\n",
              "      <th>why</th>\n",
              "      <th>will</th>\n",
              "      <th>willing</th>\n",
              "      <th>win</th>\n",
              "      <th>with</th>\n",
              "      <th>within</th>\n",
              "      <th>within day</th>\n",
              "      <th>without</th>\n",
              "      <th>without vaccine</th>\n",
              "      <th>woman</th>\n",
              "      <th>work</th>\n",
              "      <th>work http</th>\n",
              "      <th>worked</th>\n",
              "      <th>worker</th>\n",
              "      <th>working</th>\n",
              "      <th>world</th>\n",
              "      <th>worry</th>\n",
              "      <th>worse</th>\n",
              "      <th>worth</th>\n",
              "      <th>would</th>\n",
              "      <th>would get</th>\n",
              "      <th>would take</th>\n",
              "      <th>wow</th>\n",
              "      <th>wrong</th>\n",
              "      <th>yeah</th>\n",
              "      <th>year</th>\n",
              "      <th>year develop</th>\n",
              "      <th>year old</th>\n",
              "      <th>yes</th>\n",
              "      <th>yet</th>\n",
              "      <th>york</th>\n",
              "      <th>you</th>\n",
              "      <th>your</th>\n",
              "    </tr>\n",
              "  </thead>\n",
              "  <tbody>\n",
              "    <tr>\n",
              "      <th>0</th>\n",
              "      <td>0</td>\n",
              "      <td>0</td>\n",
              "      <td>0</td>\n",
              "      <td>0</td>\n",
              "      <td>0</td>\n",
              "      <td>0</td>\n",
              "      <td>0</td>\n",
              "      <td>0</td>\n",
              "      <td>0</td>\n",
              "      <td>0</td>\n",
              "      <td>0</td>\n",
              "      <td>0</td>\n",
              "      <td>0</td>\n",
              "      <td>0</td>\n",
              "      <td>0</td>\n",
              "      <td>0</td>\n",
              "      <td>0</td>\n",
              "      <td>0</td>\n",
              "      <td>0</td>\n",
              "      <td>0</td>\n",
              "      <td>0</td>\n",
              "      <td>0</td>\n",
              "      <td>0</td>\n",
              "      <td>0</td>\n",
              "      <td>0</td>\n",
              "      <td>0</td>\n",
              "      <td>0</td>\n",
              "      <td>0</td>\n",
              "      <td>0</td>\n",
              "      <td>0</td>\n",
              "      <td>0</td>\n",
              "      <td>0</td>\n",
              "      <td>0</td>\n",
              "      <td>0</td>\n",
              "      <td>0</td>\n",
              "      <td>0</td>\n",
              "      <td>0</td>\n",
              "      <td>0</td>\n",
              "      <td>0</td>\n",
              "      <td>0</td>\n",
              "      <td>...</td>\n",
              "      <td>0</td>\n",
              "      <td>0</td>\n",
              "      <td>0</td>\n",
              "      <td>0</td>\n",
              "      <td>0</td>\n",
              "      <td>0</td>\n",
              "      <td>0</td>\n",
              "      <td>0</td>\n",
              "      <td>0</td>\n",
              "      <td>0</td>\n",
              "      <td>0</td>\n",
              "      <td>0</td>\n",
              "      <td>0</td>\n",
              "      <td>0</td>\n",
              "      <td>0</td>\n",
              "      <td>0</td>\n",
              "      <td>0</td>\n",
              "      <td>0</td>\n",
              "      <td>0</td>\n",
              "      <td>0</td>\n",
              "      <td>0</td>\n",
              "      <td>0</td>\n",
              "      <td>0</td>\n",
              "      <td>0</td>\n",
              "      <td>0</td>\n",
              "      <td>0</td>\n",
              "      <td>0</td>\n",
              "      <td>0</td>\n",
              "      <td>0</td>\n",
              "      <td>0</td>\n",
              "      <td>0</td>\n",
              "      <td>0</td>\n",
              "      <td>0</td>\n",
              "      <td>0</td>\n",
              "      <td>0</td>\n",
              "      <td>0</td>\n",
              "      <td>0</td>\n",
              "      <td>0</td>\n",
              "      <td>0</td>\n",
              "      <td>0</td>\n",
              "    </tr>\n",
              "    <tr>\n",
              "      <th>1</th>\n",
              "      <td>0</td>\n",
              "      <td>0</td>\n",
              "      <td>0</td>\n",
              "      <td>0</td>\n",
              "      <td>0</td>\n",
              "      <td>0</td>\n",
              "      <td>0</td>\n",
              "      <td>0</td>\n",
              "      <td>0</td>\n",
              "      <td>0</td>\n",
              "      <td>0</td>\n",
              "      <td>0</td>\n",
              "      <td>0</td>\n",
              "      <td>0</td>\n",
              "      <td>0</td>\n",
              "      <td>0</td>\n",
              "      <td>0</td>\n",
              "      <td>0</td>\n",
              "      <td>0</td>\n",
              "      <td>0</td>\n",
              "      <td>0</td>\n",
              "      <td>0</td>\n",
              "      <td>0</td>\n",
              "      <td>0</td>\n",
              "      <td>0</td>\n",
              "      <td>0</td>\n",
              "      <td>0</td>\n",
              "      <td>0</td>\n",
              "      <td>0</td>\n",
              "      <td>0</td>\n",
              "      <td>0</td>\n",
              "      <td>0</td>\n",
              "      <td>0</td>\n",
              "      <td>0</td>\n",
              "      <td>0</td>\n",
              "      <td>0</td>\n",
              "      <td>0</td>\n",
              "      <td>0</td>\n",
              "      <td>0</td>\n",
              "      <td>0</td>\n",
              "      <td>...</td>\n",
              "      <td>0</td>\n",
              "      <td>0</td>\n",
              "      <td>0</td>\n",
              "      <td>0</td>\n",
              "      <td>0</td>\n",
              "      <td>0</td>\n",
              "      <td>0</td>\n",
              "      <td>0</td>\n",
              "      <td>0</td>\n",
              "      <td>0</td>\n",
              "      <td>0</td>\n",
              "      <td>0</td>\n",
              "      <td>0</td>\n",
              "      <td>0</td>\n",
              "      <td>0</td>\n",
              "      <td>0</td>\n",
              "      <td>0</td>\n",
              "      <td>0</td>\n",
              "      <td>0</td>\n",
              "      <td>0</td>\n",
              "      <td>0</td>\n",
              "      <td>0</td>\n",
              "      <td>0</td>\n",
              "      <td>0</td>\n",
              "      <td>0</td>\n",
              "      <td>0</td>\n",
              "      <td>0</td>\n",
              "      <td>0</td>\n",
              "      <td>0</td>\n",
              "      <td>0</td>\n",
              "      <td>0</td>\n",
              "      <td>1</td>\n",
              "      <td>0</td>\n",
              "      <td>0</td>\n",
              "      <td>0</td>\n",
              "      <td>0</td>\n",
              "      <td>0</td>\n",
              "      <td>0</td>\n",
              "      <td>0</td>\n",
              "      <td>0</td>\n",
              "    </tr>\n",
              "    <tr>\n",
              "      <th>2</th>\n",
              "      <td>0</td>\n",
              "      <td>0</td>\n",
              "      <td>0</td>\n",
              "      <td>0</td>\n",
              "      <td>0</td>\n",
              "      <td>0</td>\n",
              "      <td>0</td>\n",
              "      <td>0</td>\n",
              "      <td>0</td>\n",
              "      <td>0</td>\n",
              "      <td>0</td>\n",
              "      <td>0</td>\n",
              "      <td>0</td>\n",
              "      <td>0</td>\n",
              "      <td>0</td>\n",
              "      <td>0</td>\n",
              "      <td>0</td>\n",
              "      <td>0</td>\n",
              "      <td>0</td>\n",
              "      <td>0</td>\n",
              "      <td>0</td>\n",
              "      <td>0</td>\n",
              "      <td>0</td>\n",
              "      <td>0</td>\n",
              "      <td>0</td>\n",
              "      <td>0</td>\n",
              "      <td>0</td>\n",
              "      <td>0</td>\n",
              "      <td>0</td>\n",
              "      <td>0</td>\n",
              "      <td>0</td>\n",
              "      <td>0</td>\n",
              "      <td>0</td>\n",
              "      <td>0</td>\n",
              "      <td>0</td>\n",
              "      <td>0</td>\n",
              "      <td>0</td>\n",
              "      <td>0</td>\n",
              "      <td>1</td>\n",
              "      <td>0</td>\n",
              "      <td>...</td>\n",
              "      <td>0</td>\n",
              "      <td>0</td>\n",
              "      <td>0</td>\n",
              "      <td>0</td>\n",
              "      <td>0</td>\n",
              "      <td>0</td>\n",
              "      <td>0</td>\n",
              "      <td>0</td>\n",
              "      <td>0</td>\n",
              "      <td>0</td>\n",
              "      <td>0</td>\n",
              "      <td>0</td>\n",
              "      <td>0</td>\n",
              "      <td>0</td>\n",
              "      <td>0</td>\n",
              "      <td>0</td>\n",
              "      <td>0</td>\n",
              "      <td>0</td>\n",
              "      <td>0</td>\n",
              "      <td>0</td>\n",
              "      <td>0</td>\n",
              "      <td>0</td>\n",
              "      <td>0</td>\n",
              "      <td>0</td>\n",
              "      <td>0</td>\n",
              "      <td>0</td>\n",
              "      <td>0</td>\n",
              "      <td>0</td>\n",
              "      <td>0</td>\n",
              "      <td>0</td>\n",
              "      <td>0</td>\n",
              "      <td>0</td>\n",
              "      <td>0</td>\n",
              "      <td>0</td>\n",
              "      <td>0</td>\n",
              "      <td>0</td>\n",
              "      <td>0</td>\n",
              "      <td>0</td>\n",
              "      <td>0</td>\n",
              "      <td>0</td>\n",
              "    </tr>\n",
              "    <tr>\n",
              "      <th>3</th>\n",
              "      <td>0</td>\n",
              "      <td>0</td>\n",
              "      <td>0</td>\n",
              "      <td>0</td>\n",
              "      <td>0</td>\n",
              "      <td>0</td>\n",
              "      <td>0</td>\n",
              "      <td>0</td>\n",
              "      <td>0</td>\n",
              "      <td>0</td>\n",
              "      <td>0</td>\n",
              "      <td>0</td>\n",
              "      <td>0</td>\n",
              "      <td>0</td>\n",
              "      <td>0</td>\n",
              "      <td>0</td>\n",
              "      <td>0</td>\n",
              "      <td>1</td>\n",
              "      <td>0</td>\n",
              "      <td>0</td>\n",
              "      <td>0</td>\n",
              "      <td>0</td>\n",
              "      <td>0</td>\n",
              "      <td>0</td>\n",
              "      <td>0</td>\n",
              "      <td>0</td>\n",
              "      <td>0</td>\n",
              "      <td>0</td>\n",
              "      <td>0</td>\n",
              "      <td>0</td>\n",
              "      <td>0</td>\n",
              "      <td>0</td>\n",
              "      <td>0</td>\n",
              "      <td>2</td>\n",
              "      <td>0</td>\n",
              "      <td>0</td>\n",
              "      <td>0</td>\n",
              "      <td>0</td>\n",
              "      <td>0</td>\n",
              "      <td>0</td>\n",
              "      <td>...</td>\n",
              "      <td>0</td>\n",
              "      <td>0</td>\n",
              "      <td>0</td>\n",
              "      <td>0</td>\n",
              "      <td>0</td>\n",
              "      <td>0</td>\n",
              "      <td>0</td>\n",
              "      <td>0</td>\n",
              "      <td>0</td>\n",
              "      <td>0</td>\n",
              "      <td>0</td>\n",
              "      <td>0</td>\n",
              "      <td>0</td>\n",
              "      <td>0</td>\n",
              "      <td>0</td>\n",
              "      <td>0</td>\n",
              "      <td>0</td>\n",
              "      <td>0</td>\n",
              "      <td>0</td>\n",
              "      <td>0</td>\n",
              "      <td>0</td>\n",
              "      <td>0</td>\n",
              "      <td>0</td>\n",
              "      <td>0</td>\n",
              "      <td>0</td>\n",
              "      <td>0</td>\n",
              "      <td>0</td>\n",
              "      <td>0</td>\n",
              "      <td>0</td>\n",
              "      <td>0</td>\n",
              "      <td>0</td>\n",
              "      <td>0</td>\n",
              "      <td>0</td>\n",
              "      <td>0</td>\n",
              "      <td>0</td>\n",
              "      <td>0</td>\n",
              "      <td>0</td>\n",
              "      <td>0</td>\n",
              "      <td>0</td>\n",
              "      <td>0</td>\n",
              "    </tr>\n",
              "    <tr>\n",
              "      <th>4</th>\n",
              "      <td>0</td>\n",
              "      <td>0</td>\n",
              "      <td>0</td>\n",
              "      <td>0</td>\n",
              "      <td>0</td>\n",
              "      <td>0</td>\n",
              "      <td>0</td>\n",
              "      <td>0</td>\n",
              "      <td>0</td>\n",
              "      <td>0</td>\n",
              "      <td>0</td>\n",
              "      <td>0</td>\n",
              "      <td>0</td>\n",
              "      <td>0</td>\n",
              "      <td>0</td>\n",
              "      <td>0</td>\n",
              "      <td>0</td>\n",
              "      <td>0</td>\n",
              "      <td>0</td>\n",
              "      <td>0</td>\n",
              "      <td>0</td>\n",
              "      <td>0</td>\n",
              "      <td>0</td>\n",
              "      <td>0</td>\n",
              "      <td>0</td>\n",
              "      <td>0</td>\n",
              "      <td>0</td>\n",
              "      <td>0</td>\n",
              "      <td>0</td>\n",
              "      <td>0</td>\n",
              "      <td>0</td>\n",
              "      <td>0</td>\n",
              "      <td>0</td>\n",
              "      <td>0</td>\n",
              "      <td>0</td>\n",
              "      <td>0</td>\n",
              "      <td>0</td>\n",
              "      <td>0</td>\n",
              "      <td>0</td>\n",
              "      <td>0</td>\n",
              "      <td>...</td>\n",
              "      <td>0</td>\n",
              "      <td>0</td>\n",
              "      <td>0</td>\n",
              "      <td>0</td>\n",
              "      <td>0</td>\n",
              "      <td>0</td>\n",
              "      <td>0</td>\n",
              "      <td>0</td>\n",
              "      <td>0</td>\n",
              "      <td>0</td>\n",
              "      <td>0</td>\n",
              "      <td>0</td>\n",
              "      <td>0</td>\n",
              "      <td>0</td>\n",
              "      <td>0</td>\n",
              "      <td>0</td>\n",
              "      <td>0</td>\n",
              "      <td>0</td>\n",
              "      <td>0</td>\n",
              "      <td>0</td>\n",
              "      <td>0</td>\n",
              "      <td>0</td>\n",
              "      <td>0</td>\n",
              "      <td>0</td>\n",
              "      <td>0</td>\n",
              "      <td>0</td>\n",
              "      <td>0</td>\n",
              "      <td>0</td>\n",
              "      <td>0</td>\n",
              "      <td>0</td>\n",
              "      <td>0</td>\n",
              "      <td>0</td>\n",
              "      <td>0</td>\n",
              "      <td>0</td>\n",
              "      <td>0</td>\n",
              "      <td>0</td>\n",
              "      <td>0</td>\n",
              "      <td>0</td>\n",
              "      <td>0</td>\n",
              "      <td>0</td>\n",
              "    </tr>\n",
              "  </tbody>\n",
              "</table>\n",
              "<p>5 rows × 1000 columns</p>\n",
              "</div>"
            ],
            "text/plain": [
              "   able  absolutely  access  access covid  according  ...  yes  yet  york  you  your\n",
              "0     0           0       0             0          0  ...    0    0     0    0     0\n",
              "1     0           0       0             0          0  ...    0    0     0    0     0\n",
              "2     0           0       0             0          0  ...    0    0     0    0     0\n",
              "3     0           0       0             0          0  ...    0    0     0    0     0\n",
              "4     0           0       0             0          0  ...    0    0     0    0     0\n",
              "\n",
              "[5 rows x 1000 columns]"
            ]
          },
          "metadata": {
            "tags": []
          },
          "execution_count": 15
        }
      ]
    },
    {
      "cell_type": "code",
      "metadata": {
        "id": "lZl8xDNjPD4o"
      },
      "source": [
        "# split the dataset into training and testing parts\n",
        "\n",
        "X_train,x_test,Y_train,y_test = train_test_split(df_ngram,y_train,train_size=.80)"
      ],
      "execution_count": null,
      "outputs": []
    },
    {
      "cell_type": "code",
      "metadata": {
        "id": "0e2a7Vt0QO9a"
      },
      "source": [
        "# normalizing (scaling)\n",
        "\n",
        "x_max = X_train.max()\n",
        "x_min = X_train.min()\n",
        "\n",
        "X_train = (X_train - x_min)/x_max\n",
        "x_test = (x_test - x_min)/x_max"
      ],
      "execution_count": null,
      "outputs": []
    },
    {
      "cell_type": "markdown",
      "metadata": {
        "id": "3saTTbOBP5Ei"
      },
      "source": [
        "# **Model Implementation**"
      ]
    },
    {
      "cell_type": "markdown",
      "metadata": {
        "id": "wBkZGnjgP-nA"
      },
      "source": [
        "### SVM (Support Vector Machine)"
      ]
    },
    {
      "cell_type": "code",
      "metadata": {
        "id": "8MkN5pLcRgmG"
      },
      "source": [
        "from sklearn.svm import SVC\n",
        "from sklearn.metrics import accuracy_score, plot_confusion_matrix,classification_report,confusion_matrix\n",
        "import matplotlib.pyplot as plt\n"
      ],
      "execution_count": null,
      "outputs": []
    },
    {
      "cell_type": "code",
      "metadata": {
        "colab": {
          "base_uri": "https://localhost:8080/"
        },
        "id": "yFBn7juIQxsB",
        "outputId": "f031762e-21f5-4aad-d7b5-d37e9a9e923c"
      },
      "source": [
        "# create a SVM model with linear kernel using sklearn library\n",
        "\n",
        "model = SVC(kernel='linear', C=1).fit(X_train, Y_train)\n",
        "\n",
        "#get predictions on test set\n",
        "y_pred = model.predict(x_test)\n",
        "\n",
        "#accuracy on test set\n",
        "accuracy = accuracy_score(y_test,y_pred)\n",
        "print(\"Accuracy: {}\".format(accuracy))"
      ],
      "execution_count": null,
      "outputs": [
        {
          "output_type": "stream",
          "text": [
            "Accuracy: 0.6787003610108303\n"
          ],
          "name": "stdout"
        }
      ]
    },
    {
      "cell_type": "code",
      "metadata": {
        "colab": {
          "base_uri": "https://localhost:8080/",
          "height": 469
        },
        "id": "gzuGjhZWRSeD",
        "outputId": "9ea05354-cd24-4c75-ee7f-391382b62b2b"
      },
      "source": [
        "# plot the confusion matrix\n",
        "plot_confusion_matrix(model, x_test, y_test, values_format='d')\n",
        "plt.title(\"Confusion Matrix Ngram+SVM\")\n",
        "plt.show()\n",
        "\n",
        "# print performance measurements (accuracy, precision, recall, f1-score)\n",
        "print(classification_report(y_test,y_pred))"
      ],
      "execution_count": null,
      "outputs": [
        {
          "output_type": "display_data",
          "data": {
            "image/png": "[encoded data removed]",
            "text/plain": [
              "<Figure size 432x288 with 2 Axes>"
            ]
          },
          "metadata": {
            "tags": [],
            "needs_background": "light"
          }
        },
        {
          "output_type": "stream",
          "text": [
            "              precision    recall  f1-score   support\n",
            "\n",
            "         0.0       0.64      0.62      0.63       152\n",
            "         1.0       0.70      0.76      0.73       204\n",
            "         2.0       0.68      0.64      0.66       198\n",
            "\n",
            "    accuracy                           0.68       554\n",
            "   macro avg       0.67      0.67      0.67       554\n",
            "weighted avg       0.68      0.68      0.68       554\n",
            "\n"
          ],
          "name": "stdout"
        }
      ]
    },
    {
      "cell_type": "markdown",
      "metadata": {
        "id": "yWAdKCJSQcad"
      },
      "source": [
        "### LSTM (Long Short-Term Memory)"
      ]
    },
    {
      "cell_type": "code",
      "metadata": {
        "colab": {
          "base_uri": "https://localhost:8080/"
        },
        "id": "Tyf1T571SVzL",
        "outputId": "343d8906-d8fe-41cf-8152-c833400f350d"
      },
      "source": [
        "# import keras library packages\n",
        "import pandas as pd\n",
        "from sklearn.preprocessing import LabelEncoder\n",
        "from keras.preprocessing.text import Tokenizer\n",
        "from keras.preprocessing.sequence import pad_sequences\n",
        "from keras.models import Sequential\n",
        "from keras.layers import Dense, Embedding, LSTM, SpatialDropout1D\n",
        "from keras.utils.np_utils import to_categorical\n",
        "from sklearn.preprocessing import OneHotEncoder\n",
        "\n",
        "# set vocabulary size\n",
        "vocabSize = 3000\n",
        "\n",
        "# create tokenizer object\n",
        "tokenizer = Tokenizer(num_words = vocabSize, split=' ')\n",
        "clean_tweets = df_new['Clean_text'].astype(str) # specifying the field datatype\n",
        "label = df_new['label']\n",
        "X_train,x_test,Y_train,y_test = train_test_split(clean_tweets,label,train_size=.80,random_state=420)\n",
        "\n",
        "# apply tokenizer method on clean tweets to convert text into vector\n",
        "tokenizer.fit_on_texts(clean_tweets.values)\n",
        "X_train = tokenizer.texts_to_sequences(X_train.values)\n",
        "X_train = pad_sequences(X_train, maxlen = 100, padding = 'pre', truncating = 'pre')\n",
        "\n",
        "# le = LabelEncoder()\n",
        "y_train = Y_train.values\n",
        "y_train = y_train.reshape(-1, 1)\n",
        "\n",
        "enc = OneHotEncoder(handle_unknown='ignore')\n",
        "enc.fit(y_train)\n",
        "y_train = enc.transform(y_train).toarray()\n",
        "print(y_train)\n",
        "# print(\"X_train\\n\")\n",
        "# print(X_train)\n",
        "# print(X_train.shape, y_train.shape)"
      ],
      "execution_count": null,
      "outputs": [
        {
          "output_type": "stream",
          "text": [
            "[[0. 1. 0.]\n",
            " [1. 0. 0.]\n",
            " [0. 1. 0.]\n",
            " ...\n",
            " [0. 0. 1.]\n",
            " [1. 0. 0.]\n",
            " [1. 0. 0.]]\n"
          ],
          "name": "stdout"
        }
      ]
    },
    {
      "cell_type": "code",
      "metadata": {
        "colab": {
          "base_uri": "https://localhost:8080/"
        },
        "id": "YYG63Rn_Xl-N",
        "outputId": "19a3fa30-aa29-46bc-e75e-a7cfa966aee6"
      },
      "source": [
        "y_test.shape"
      ],
      "execution_count": null,
      "outputs": [
        {
          "output_type": "execute_result",
          "data": {
            "text/plain": [
              "(554,)"
            ]
          },
          "metadata": {
            "tags": []
          },
          "execution_count": 5
        }
      ]
    },
    {
      "cell_type": "code",
      "metadata": {
        "colab": {
          "base_uri": "https://localhost:8080/"
        },
        "id": "6l4hhpUDUyto",
        "outputId": "cfaba4fc-bd6c-40fb-d004-7c301d29c86f"
      },
      "source": [
        "# LSTM model\n",
        "lstm_out = 128\n",
        "\n",
        "model = Sequential()\n",
        "model.add(Embedding(input_dim = vocabSize, output_dim=16, input_length = 100))  # add embedding layer\n",
        "model.add(SpatialDropout1D(0.4)) # add dropout layer\n",
        "model.add(LSTM(lstm_out, dropout = 0.2, recurrent_dropout = 0.2))  # add LSTM layer\n",
        "model.add(Dense(3, activation = 'softmax'))  # add dense layer\n",
        "print(model.summary())\n",
        "model.compile(loss = 'categorical_crossentropy', optimizer = 'adam', metrics = ['accuracy'])\n",
        "\n",
        "\n",
        "# fit training model\n",
        "batchSize = 64\n",
        "print(X_train.shape, y_train.shape)\n",
        "model.fit(X_train, y_train, epochs = 8, batch_size = batchSize, verbose = 1)\n",
        "\n",
        "#model.save('./built_model/lstm_model')\n",
        "# new_model = tf.keras.models.load_model('saved_model/my_model')  # Load model"
      ],
      "execution_count": null,
      "outputs": [
        {
          "output_type": "stream",
          "text": [
            "Model: \"sequential\"\n",
            "_________________________________________________________________\n",
            "Layer (type)                 Output Shape              Param #   \n",
            "=================================================================\n",
            "embedding (Embedding)        (None, 100, 16)           48000     \n",
            "_________________________________________________________________\n",
            "spatial_dropout1d (SpatialDr (None, 100, 16)           0         \n",
            "_________________________________________________________________\n",
            "lstm (LSTM)                  (None, 128)               74240     \n",
            "_________________________________________________________________\n",
            "dense (Dense)                (None, 3)                 387       \n",
            "=================================================================\n",
            "Total params: 122,627\n",
            "Trainable params: 122,627\n",
            "Non-trainable params: 0\n",
            "_________________________________________________________________\n",
            "None\n",
            "(2216, 100) (2216, 3)\n",
            "Epoch 1/8\n",
            "35/35 [==============================] - 11s 241ms/step - loss: 1.0939 - accuracy: 0.3590\n",
            "Epoch 2/8\n",
            "35/35 [==============================] - 8s 240ms/step - loss: 1.0615 - accuracy: 0.4437\n",
            "Epoch 3/8\n",
            "35/35 [==============================] - 8s 242ms/step - loss: 0.9174 - accuracy: 0.5685\n",
            "Epoch 4/8\n",
            "35/35 [==============================] - 8s 241ms/step - loss: 0.7484 - accuracy: 0.6708\n",
            "Epoch 5/8\n",
            "35/35 [==============================] - 8s 242ms/step - loss: 0.6655 - accuracy: 0.7325\n",
            "Epoch 6/8\n",
            "35/35 [==============================] - 8s 242ms/step - loss: 0.7142 - accuracy: 0.7259\n",
            "Epoch 7/8\n",
            "35/35 [==============================] - 8s 242ms/step - loss: 0.7706 - accuracy: 0.6936\n",
            "Epoch 8/8\n",
            "35/35 [==============================] - 9s 244ms/step - loss: 0.4935 - accuracy: 0.8216\n"
          ],
          "name": "stdout"
        },
        {
          "output_type": "execute_result",
          "data": {
            "text/plain": [
              "<tensorflow.python.keras.callbacks.History at 0x7f515775ad90>"
            ]
          },
          "metadata": {
            "tags": []
          },
          "execution_count": 6
        }
      ]
    },
    {
      "cell_type": "code",
      "metadata": {
        "colab": {
          "base_uri": "https://localhost:8080/"
        },
        "id": "tRA087PxVza_",
        "outputId": "b381c833-91e1-43a7-93f2-d291b62a6245"
      },
      "source": [
        "# predict stance for testing dataset\n",
        "\n",
        "x_test = tokenizer.texts_to_sequences(x_test.values)\n",
        "x_test = pad_sequences(x_test, maxlen = 100, padding = 'pre', truncating = 'pre')\n",
        "y_pred=model.predict(x_test,batch_size=1,verbose = 2)"
      ],
      "execution_count": null,
      "outputs": [
        {
          "output_type": "stream",
          "text": [
            "554/554 - 5s\n"
          ],
          "name": "stdout"
        }
      ]
    },
    {
      "cell_type": "code",
      "metadata": {
        "colab": {
          "base_uri": "https://localhost:8080/"
        },
        "id": "ltP0uJTNadrP",
        "outputId": "2f7c1265-972f-42ed-b5d0-73abe7b35e73"
      },
      "source": [
        "y_pred"
      ],
      "execution_count": null,
      "outputs": [
        {
          "output_type": "execute_result",
          "data": {
            "text/plain": [
              "array([[0.00280849, 0.95726424, 0.03992734],\n",
              "       [0.01023094, 0.01784657, 0.9719225 ],\n",
              "       [0.56910825, 0.01158717, 0.4193046 ],\n",
              "       ...,\n",
              "       [0.0165185 , 0.23083405, 0.75264746],\n",
              "       [0.09824153, 0.18158975, 0.7201687 ],\n",
              "       [0.04562829, 0.15460703, 0.7997647 ]], dtype=float32)"
            ]
          },
          "metadata": {
            "tags": []
          },
          "execution_count": 8
        }
      ]
    },
    {
      "cell_type": "code",
      "metadata": {
        "colab": {
          "base_uri": "https://localhost:8080/"
        },
        "id": "_ExWAerYcCX8",
        "outputId": "16b94dd6-48e7-4e1e-f14d-2ed0686b8d29"
      },
      "source": [
        "# classification report\n",
        "\n",
        "l=[]\n",
        "for i in y_pred:\n",
        "  l.append(np.argmax(i))\n",
        "print(classification_report(y_test,l))"
      ],
      "execution_count": null,
      "outputs": [
        {
          "output_type": "stream",
          "text": [
            "              precision    recall  f1-score   support\n",
            "\n",
            "         0.0       0.74      0.73      0.73       151\n",
            "         1.0       0.82      0.71      0.76       206\n",
            "         2.0       0.66      0.76      0.71       197\n",
            "\n",
            "    accuracy                           0.73       554\n",
            "   macro avg       0.74      0.73      0.73       554\n",
            "weighted avg       0.74      0.73      0.73       554\n",
            "\n"
          ],
          "name": "stdout"
        }
      ]
    },
    {
      "cell_type": "code",
      "metadata": {
        "id": "oknXS6HUcnYp"
      },
      "source": [
        "cm=confusion_matrix(y_test,l)"
      ],
      "execution_count": null,
      "outputs": []
    },
    {
      "cell_type": "code",
      "metadata": {
        "id": "vKYVieb2e_fd"
      },
      "source": [
        "import seaborn as sn"
      ],
      "execution_count": null,
      "outputs": []
    },
    {
      "cell_type": "code",
      "metadata": {
        "colab": {
          "base_uri": "https://localhost:8080/",
          "height": 295
        },
        "id": "W-J3B8p-ghZx",
        "outputId": "70b4abef-1e30-4ff9-f12c-a87bb73a1b6e"
      },
      "source": [
        "df_cm = pd.DataFrame(cm, index = [i for i in \"012\"],\n",
        "                  columns = [i for i in \"012\"])\n",
        "sn.heatmap(df_cm, annot=True, fmt='d')\n",
        "plt.xlabel(\"Predicted\")\n",
        "plt.ylabel(\"True\")\n",
        "plt.title(\"Confusion Matrix LSTM\")\n",
        "plt.show()"
      ],
      "execution_count": null,
      "outputs": [
        {
          "output_type": "display_data",
          "data": {
            "image/png": "[encoded data removed]",
            "text/plain": [
              "<Figure size 432x288 with 2 Axes>"
            ]
          },
          "metadata": {
            "tags": [],
            "needs_background": "light"
          }
        }
      ]
    },
    {
      "cell_type": "code",
      "metadata": {
        "colab": {
          "base_uri": "https://localhost:8080/",
          "height": 533
        },
        "id": "OHcIEcfjVkcF",
        "outputId": "d116b48a-9c7f-47eb-ab8b-0ba89a79143f"
      },
      "source": [
        "# pictorial representation of LSTM model\n",
        "\n",
        "from keras.utils import plot_model\n",
        "plot_model(model, to_file='/content/model_plot4a.png', show_shapes=True, show_layer_names=True)"
      ],
      "execution_count": null,
      "outputs": [
        {
          "output_type": "execute_result",
          "data": {
            "image/png": "[encoded data removed]",
            "text/plain": [
              "<IPython.core.display.Image object>"
            ]
          },
          "metadata": {
            "tags": []
          },
          "execution_count": 15
        }
      ]
    }
  ]
}